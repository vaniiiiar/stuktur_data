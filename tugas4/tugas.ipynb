{
 "cells": [
  {
   "cell_type": "markdown",
   "metadata": {},
   "source": [
    "# Kelas PengolahKata\n",
    "Kelas ini dirancang untuk mengelola operasi pengetikan, undo, dan redo pada teks yang dimasukkan.\n",
    "\n",
    "## Atribut:\n",
    "- std::string teks: Variabel yang menyimpan teks yang sedang diketik.\n",
    "- std::stack<std::string> tumpukanUndo: Stack yang menyimpan state teks sebelum perubahan, memungkinkan operasi undo.\n",
    "- std::stack<std::string> tumpukanRedo: Stack yang menyimpan state teks setelah undo, memungkinkan operasi redo."
   ]
  },
  {
   "cell_type": "markdown",
   "metadata": {},
   "source": [
    "# Metode:\n",
    "1. void ketik(const std::string& teksBaru):\n",
    "    - Menyimpan teks saat ini ke tumpukanUndo.\n",
    "    - Menambahkan teksBaru ke teks yang ada.\n",
    "    Mengosongkan tumpukanRedo karena pengetikan baru membuat redo tidak relevan.\n",
    "    Mencetak teks saat ini.\n",
    "2. void undo():\n",
    "    - Jika tumpukanUndo kosong, tampilkan pesan bahwa tidak ada yang bisa di-undo.\n",
    "    - Jika tidak, simpan teks saat ini ke tumpukanRedo, kembalikan teks ke state sebelum perubahan, dan cetak teks saat ini.\n",
    "3.void redo():\n",
    "    - Jika tumpukanRedo kosong, tampilkan pesan bahwa tidak ada yang bisa di-redo.\n",
    "    - Jika tidak, simpan teks saat ini ke tumpukanUndo, kembalikan teks ke state setelah undo, dan cetak teks saat ini.\n",
    "4. bool isEmptyUndo() const:\n",
    "    - Mengembalikan true jika tumpukanUndo kosong, sebaliknya false.\n",
    "5. bool isEmptyRedo() const:\n",
    "    -Mengembalikan true jika tumpukanRedo kosong, sebaliknya false."
   ]
  },
  {
   "cell_type": "markdown",
   "metadata": {},
   "source": [
    "# Fungsi main()\n",
    "Mengatur interaksi dengan pengguna melalui menu pilihan perintah dan menjalankan fungsi-fungsi yang relevan berdasarkan input pengguna.\n",
    "\n",
    "## 1. Loop Utama:\n",
    "Program berjalan dalam loop yang terus menerus hingga pengguna memilih untuk keluar.\n",
    "Setiap iterasi menampilkan menu pilihan perintah:\n",
    "    1. Ketik\n",
    "    2. Undo\n",
    "    3. Redo\n",
    "    4. Is Empty Undo\n",
    "    5. Is Empty Redo\n",
    "    6. Keluar\n",
    "    Penanganan Pilihan:\n",
    "\n",
    "## 2. Membaca input pilihan dari pengguna.\n",
    "Menggunakan switch untuk menangani berbagai pilihan:\n",
    "    - Ketik (1):\n",
    "    Meminta pengguna memasukkan teks yang ingin diketik, lalu memanggil pk.ketik(teks).\n",
    "    - Undo (2):\n",
    "    Memanggil pk.undo().\n",
    "    -  Redo (3):\n",
    "    Memanggil pk.redo().\n",
    "    - isEmptyUndo (4):\n",
    "    Memeriksa dan mencetak apakah tumpukanUndo kosong menggunakan pk.isEmptyUndo().\n",
    "    - isEmptyRedo (5):\n",
    "    Memeriksa dan mencetak apakah tumpukanRedo kosong menggunakan pk.isEmptyRedo().\n",
    "    - Keluar (6):\n",
    "    Mengakhiri program.\n",
    "    Default:\n",
    "    Menampilkan pesan bahwa pilihan tidak dikenal."
   ]
  }
 ],
 "metadata": {
  "language_info": {
   "name": "python"
  }
 },
 "nbformat": 4,
 "nbformat_minor": 2
}
